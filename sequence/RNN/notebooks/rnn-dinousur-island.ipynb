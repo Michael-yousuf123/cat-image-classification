{
 "cells": [
  {
   "cell_type": "markdown",
   "id": "9f4829a2-f272-4a92-a103-5742948d317b",
   "metadata": {},
   "source": [
    "---\n",
    "- ### **RNN from Scratch**\n",
    "---"
   ]
  },
  {
   "cell_type": "code",
   "execution_count": 1,
   "id": "3f0890cc-f0f1-4298-bf1f-4b286ce2f4a4",
   "metadata": {},
   "outputs": [],
   "source": [
    "import os\n",
    "import numpy as np\n",
    "import scipy as sp"
   ]
  },
  {
   "cell_type": "markdown",
   "id": "254c8bf6-0abf-4be2-8535-d960a19fa513",
   "metadata": {},
   "source": [
    "---\n",
    "- ### **Data Preparation**\n",
    "---"
   ]
  },
  {
   "cell_type": "code",
   "execution_count": 2,
   "id": "2f271790-d80c-4b01-91a8-c68c35e76449",
   "metadata": {},
   "outputs": [],
   "source": [
    "link = '/home/miki/Desktop/Miki/DeepLearning/NLP/large-language-models/sequence/RNN/data/dinos.txt'\n",
    "with open(link) as f:\n",
    "    data = f.read().lower()"
   ]
  },
  {
   "cell_type": "code",
   "execution_count": 10,
   "id": "54784c35",
   "metadata": {},
   "outputs": [],
   "source": [
    "chars = list(set(data))"
   ]
  },
  {
   "cell_type": "code",
   "execution_count": 12,
   "id": "02101904",
   "metadata": {},
   "outputs": [
    {
     "name": "stdout",
     "output_type": "stream",
     "text": [
      "{0: '\\n', 1: 'a', 2: 'b', 3: 'c', 4: 'd', 5: 'e', 6: 'f', 7: 'g', 8: 'h', 9: 'i', 10: 'j', 11: 'k', 12: 'l', 13: 'm', 14: 'n', 15: 'o', 16: 'p', 17: 'q', 18: 'r', 19: 's', 20: 't', 21: 'u', 22: 'v', 23: 'w', 24: 'x', 25: 'y', 26: 'z'}\n",
      "{'\\n': 0, 'a': 1, 'b': 2, 'c': 3, 'd': 4, 'e': 5, 'f': 6, 'g': 7, 'h': 8, 'i': 9, 'j': 10, 'k': 11, 'l': 12, 'm': 13, 'n': 14, 'o': 15, 'p': 16, 'q': 17, 'r': 18, 's': 19, 't': 20, 'u': 21, 'v': 22, 'w': 23, 'x': 24, 'y': 25, 'z': 26}\n"
     ]
    }
   ],
   "source": [
    "char_to_ix = { ch:i for i,ch in enumerate(sorted(chars)) }\n",
    "ix_to_char = { i:ch for i,ch in enumerate(sorted(chars)) }\n",
    "print(ix_to_char)\n",
    "print(char_to_ix)"
   ]
  },
  {
   "cell_type": "code",
   "execution_count": null,
   "id": "5a35efc5-183d-4cd5-83b8-da2e0998b124",
   "metadata": {},
   "outputs": [],
   "source": [
    "class DataGenerator():\n",
    "    '\n",
    "    '\n",
    "    def __init__(self, inputs):\n",
    "        '\n",
    "        '\n",
    "        self.inputs = inputs\n",
    "        with open(inputs) as f:\n",
    "            data = f.read().lower()\n",
    "            "
   ]
  }
 ],
 "metadata": {
  "kernelspec": {
   "display_name": "Python 3 (ipykernel)",
   "language": "python",
   "name": "python3"
  },
  "language_info": {
   "codemirror_mode": {
    "name": "ipython",
    "version": 3
   },
   "file_extension": ".py",
   "mimetype": "text/x-python",
   "name": "python",
   "nbconvert_exporter": "python",
   "pygments_lexer": "ipython3",
   "version": "3.9.0"
  }
 },
 "nbformat": 4,
 "nbformat_minor": 5
}
