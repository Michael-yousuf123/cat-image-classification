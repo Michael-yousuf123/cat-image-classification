{
 "cells": [
  {
   "cell_type": "markdown",
   "id": "766d5ba4-532b-4b48-b5a1-78c8d6c2b596",
   "metadata": {},
   "source": [
    "---\n",
    "- ### ***Why RNN over traditional NN?***\n",
    "---\n",
    "- ***CNN accept a fixed-sized vector as input (e.g. an image) and produce a fixed-sized vector as output (e.g. probabilities of different classes).***\n",
    "- ***Use a fixed amount of computational steps (e.g. the number of layers in the model).***\n",
    "- ***Let's have this example 'He Said, \"Teddy Roosevelt was a great president\"'. In this example Teddy is a person name but we know that from the word president that came after Teddy not from He and said that were before it.***\n",
    "- ***So limitation of the discussed architecture is that it can not learn from elements later in the sequence. To address this problem we will later discuss Bidirectional RNN (BRNN)***"
   ]
  },
  {
   "cell_type": "code",
   "execution_count": null,
   "id": "ffec8abd-d18c-4388-90fa-01588169953d",
   "metadata": {},
   "outputs": [],
   "source": []
  }
 ],
 "metadata": {
  "kernelspec": {
   "display_name": "Python 3 (ipykernel)",
   "language": "python",
   "name": "python3"
  },
  "language_info": {
   "codemirror_mode": {
    "name": "ipython",
    "version": 3
   },
   "file_extension": ".py",
   "mimetype": "text/x-python",
   "name": "python",
   "nbconvert_exporter": "python",
   "pygments_lexer": "ipython3",
   "version": "3.9.12"
  }
 },
 "nbformat": 4,
 "nbformat_minor": 5
}
